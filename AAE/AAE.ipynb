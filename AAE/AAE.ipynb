{
  "nbformat": 4,
  "nbformat_minor": 0,
  "metadata": {
    "colab": {
      "provenance": [],
      "machine_shape": "hm",
      "gpuType": "A100"
    },
    "kernelspec": {
      "name": "python3",
      "display_name": "Python 3"
    },
    "language_info": {
      "name": "python"
    },
    "accelerator": "GPU"
  },
  "cells": [
    {
      "cell_type": "markdown",
      "source": [
        "## 라이브러리 import 및 하이퍼파라미터 설정"
      ],
      "metadata": {
        "id": "0QgkI58VKujW"
      }
    },
    {
      "cell_type": "code",
      "execution_count": null,
      "metadata": {
        "id": "HBx7DYKoi1IF"
      },
      "outputs": [],
      "source": [
        "import torch\n",
        "import torch.nn as nn\n",
        "import torch.nn.functional as F\n",
        "from torchvision.utils import save_image"
      ]
    },
    {
      "cell_type": "code",
      "source": [
        "LATENT_DIM = 10\n",
        "INPUT_DIM = 28 * 28\n",
        "BATCH_SIZE = 128\n",
        "IMAGE_SIZE = 28\n",
        "EPOCHS = 500"
      ],
      "metadata": {
        "id": "J1RCWajF3eY6"
      },
      "execution_count": null,
      "outputs": []
    },
    {
      "cell_type": "markdown",
      "source": [
        "## 데이터 세팅"
      ],
      "metadata": {
        "id": "-Kq8h-mq709S"
      }
    },
    {
      "cell_type": "code",
      "source": [
        "import torchvision.transforms as T\n",
        "from torchvision import datasets"
      ],
      "metadata": {
        "id": "wLt7sx1VhHBD"
      },
      "execution_count": null,
      "outputs": []
    },
    {
      "cell_type": "code",
      "source": [
        "transforms = T.Compose(\n",
        "  [\n",
        "    T.Resize(IMAGE_SIZE),\n",
        "    T.ToTensor(),\n",
        "    T.Normalize((0.5), (0.5)),\n",
        "  ]\n",
        ")\n",
        "\n",
        "dataset = datasets.MNIST(root=\"./dataset/\", train=True, transform=transforms,\n",
        "                       download=True)"
      ],
      "metadata": {
        "colab": {
          "base_uri": "https://localhost:8080/"
        },
        "id": "ZNaxWbvX74T7",
        "outputId": "6f9d5556-383a-4b5f-bc73-f6f75b0ae63d"
      },
      "execution_count": null,
      "outputs": [
        {
          "output_type": "stream",
          "name": "stdout",
          "text": [
            "Downloading http://yann.lecun.com/exdb/mnist/train-images-idx3-ubyte.gz\n",
            "Failed to download (trying next):\n",
            "HTTP Error 403: Forbidden\n",
            "\n",
            "Downloading https://ossci-datasets.s3.amazonaws.com/mnist/train-images-idx3-ubyte.gz\n",
            "Downloading https://ossci-datasets.s3.amazonaws.com/mnist/train-images-idx3-ubyte.gz to ./dataset/MNIST/raw/train-images-idx3-ubyte.gz\n"
          ]
        },
        {
          "output_type": "stream",
          "name": "stderr",
          "text": [
            "100%|██████████| 9.91M/9.91M [00:01<00:00, 5.01MB/s]\n"
          ]
        },
        {
          "output_type": "stream",
          "name": "stdout",
          "text": [
            "Extracting ./dataset/MNIST/raw/train-images-idx3-ubyte.gz to ./dataset/MNIST/raw\n",
            "\n",
            "Downloading http://yann.lecun.com/exdb/mnist/train-labels-idx1-ubyte.gz\n",
            "Failed to download (trying next):\n",
            "HTTP Error 403: Forbidden\n",
            "\n",
            "Downloading https://ossci-datasets.s3.amazonaws.com/mnist/train-labels-idx1-ubyte.gz\n",
            "Downloading https://ossci-datasets.s3.amazonaws.com/mnist/train-labels-idx1-ubyte.gz to ./dataset/MNIST/raw/train-labels-idx1-ubyte.gz\n"
          ]
        },
        {
          "output_type": "stream",
          "name": "stderr",
          "text": [
            "100%|██████████| 28.9k/28.9k [00:00<00:00, 131kB/s]\n"
          ]
        },
        {
          "output_type": "stream",
          "name": "stdout",
          "text": [
            "Extracting ./dataset/MNIST/raw/train-labels-idx1-ubyte.gz to ./dataset/MNIST/raw\n",
            "\n",
            "Downloading http://yann.lecun.com/exdb/mnist/t10k-images-idx3-ubyte.gz\n",
            "Failed to download (trying next):\n",
            "HTTP Error 403: Forbidden\n",
            "\n",
            "Downloading https://ossci-datasets.s3.amazonaws.com/mnist/t10k-images-idx3-ubyte.gz\n",
            "Downloading https://ossci-datasets.s3.amazonaws.com/mnist/t10k-images-idx3-ubyte.gz to ./dataset/MNIST/raw/t10k-images-idx3-ubyte.gz\n"
          ]
        },
        {
          "output_type": "stream",
          "name": "stderr",
          "text": [
            "100%|██████████| 1.65M/1.65M [00:01<00:00, 1.23MB/s]\n"
          ]
        },
        {
          "output_type": "stream",
          "name": "stdout",
          "text": [
            "Extracting ./dataset/MNIST/raw/t10k-images-idx3-ubyte.gz to ./dataset/MNIST/raw\n",
            "\n",
            "Downloading http://yann.lecun.com/exdb/mnist/t10k-labels-idx1-ubyte.gz\n",
            "Failed to download (trying next):\n",
            "HTTP Error 403: Forbidden\n",
            "\n",
            "Downloading https://ossci-datasets.s3.amazonaws.com/mnist/t10k-labels-idx1-ubyte.gz\n",
            "Downloading https://ossci-datasets.s3.amazonaws.com/mnist/t10k-labels-idx1-ubyte.gz to ./dataset/MNIST/raw/t10k-labels-idx1-ubyte.gz\n"
          ]
        },
        {
          "output_type": "stream",
          "name": "stderr",
          "text": [
            "100%|██████████| 4.54k/4.54k [00:00<00:00, 3.09MB/s]"
          ]
        },
        {
          "output_type": "stream",
          "name": "stdout",
          "text": [
            "Extracting ./dataset/MNIST/raw/t10k-labels-idx1-ubyte.gz to ./dataset/MNIST/raw\n",
            "\n"
          ]
        },
        {
          "output_type": "stream",
          "name": "stderr",
          "text": [
            "\n"
          ]
        }
      ]
    },
    {
      "cell_type": "code",
      "source": [
        "dataloader = torch.utils.data.DataLoader(dataset, batch_size=BATCH_SIZE,\n",
        "                                         shuffle=True, num_workers=4)\n",
        "\n",
        "one_batch = next(iter(dataloader))"
      ],
      "metadata": {
        "id": "x-qJ0Rjv8DEP"
      },
      "execution_count": null,
      "outputs": []
    },
    {
      "cell_type": "code",
      "source": [
        "for image,label in dataloader:\n",
        "  break"
      ],
      "metadata": {
        "id": "fP6v4ebe8H20"
      },
      "execution_count": null,
      "outputs": []
    },
    {
      "cell_type": "code",
      "source": [
        "IMAGE_SHAPE = image.shape[1:]"
      ],
      "metadata": {
        "id": "OSlc5Hqz8Kx1"
      },
      "execution_count": null,
      "outputs": []
    },
    {
      "cell_type": "markdown",
      "source": [
        "## 모델 선언"
      ],
      "metadata": {
        "id": "vcO36rLn_u1i"
      }
    },
    {
      "cell_type": "code",
      "source": [
        "class Encoder(nn.Module):\n",
        "    def __init__(self, INPUT_DIM, LATENT_DIM):\n",
        "        super(Encoder, self).__init__()\n",
        "\n",
        "        self.layers = nn.Sequential(\n",
        "            nn.Linear(INPUT_DIM, 512),\n",
        "            nn.ReLU(),\n",
        "            nn.Linear(512, 512),\n",
        "            nn.BatchNorm1d(512),\n",
        "            nn.ReLU(),\n",
        "            nn.Linear(512, LATENT_DIM)\n",
        "        )\n",
        "\n",
        "    def forward(self, img):\n",
        "        x = img.view(img.shape[0], -1)\n",
        "        x = self.layers(x)\n",
        "        return x\n"
      ],
      "metadata": {
        "id": "x1QoFRSfgigh"
      },
      "execution_count": null,
      "outputs": []
    },
    {
      "cell_type": "code",
      "source": [
        "class Decoder(nn.Module):\n",
        "    def __init__(self, LATENT_DIM, INPUT_DIM, IMAGE_SHAPE):\n",
        "        super(Decoder, self).__init__()\n",
        "        self.layers = nn.Sequential(\n",
        "            nn.Linear(LATENT_DIM, 512),\n",
        "            nn.ReLU(),\n",
        "            nn.Linear(512, 512),\n",
        "            nn.ReLU(),\n",
        "            nn.Linear(512, INPUT_DIM),\n",
        "            nn.Tanh()\n",
        "        )\n",
        "\n",
        "    def forward(self, z):\n",
        "        z = self.layers(z)\n",
        "        img = z.view(z.shape[0], *IMAGE_SHAPE)\n",
        "        return img"
      ],
      "metadata": {
        "id": "Y4-bG6JahA4N"
      },
      "execution_count": null,
      "outputs": []
    },
    {
      "cell_type": "code",
      "source": [
        "class Discriminator(nn.Module):\n",
        "    def __init__(self, LATENT_DIM):\n",
        "        super(Discriminator, self).__init__()\n",
        "\n",
        "        self.layers = nn.Sequential(\n",
        "            nn.Linear(LATENT_DIM, 512),\n",
        "            nn.ReLU(),\n",
        "            nn.Linear(512, 256),\n",
        "            nn.ReLU(),\n",
        "            nn.Linear(256, 1),\n",
        "            nn.Sigmoid(),\n",
        "        )\n",
        "\n",
        "    def forward(self, z):\n",
        "        y = self.layers(z)\n",
        "        return y"
      ],
      "metadata": {
        "id": "xYscDhPe8MF9"
      },
      "execution_count": null,
      "outputs": []
    },
    {
      "cell_type": "code",
      "source": [
        "encoder = Encoder(INPUT_DIM, LATENT_DIM)"
      ],
      "metadata": {
        "id": "RGERaDB29qOI"
      },
      "execution_count": null,
      "outputs": []
    },
    {
      "cell_type": "code",
      "source": [
        "decoder = Decoder(LATENT_DIM, INPUT_DIM, IMAGE_SHAPE)"
      ],
      "metadata": {
        "id": "UYzn7pgm9jyB"
      },
      "execution_count": null,
      "outputs": []
    },
    {
      "cell_type": "code",
      "source": [
        "disc = Discriminator(LATENT_DIM)"
      ],
      "metadata": {
        "id": "N563FCwS9pau"
      },
      "execution_count": null,
      "outputs": []
    },
    {
      "cell_type": "markdown",
      "source": [
        "## Loss, Optimizer 선언"
      ],
      "metadata": {
        "id": "5WAoElNS_ziP"
      }
    },
    {
      "cell_type": "code",
      "source": [
        "adversarial_loss = nn.BCELoss()\n",
        "reconstruction_loss = nn.MSELoss()"
      ],
      "metadata": {
        "id": "42XPpbcP94Dx"
      },
      "execution_count": null,
      "outputs": []
    },
    {
      "cell_type": "code",
      "source": [
        "gen_optim = torch.optim.Adam(list(encoder.parameters()) + list(decoder.parameters()), lr=0.0001, betas=(0.5, 0.999))\n",
        "disc_optim = torch.optim.Adam(disc.parameters(), lr=0.0001, betas=(0.5, 0.999))"
      ],
      "metadata": {
        "id": "OFxUGyb_96bq"
      },
      "execution_count": null,
      "outputs": []
    },
    {
      "cell_type": "markdown",
      "source": [
        "## CUDA로 올리기"
      ],
      "metadata": {
        "id": "xBBkauCl_5vg"
      }
    },
    {
      "cell_type": "code",
      "source": [
        "encoder.to('cuda')"
      ],
      "metadata": {
        "colab": {
          "base_uri": "https://localhost:8080/"
        },
        "id": "CWNcY7uH_XZ6",
        "outputId": "44421e09-d591-45b6-a6cb-4765d5572a8a"
      },
      "execution_count": null,
      "outputs": [
        {
          "output_type": "execute_result",
          "data": {
            "text/plain": [
              "Encoder(\n",
              "  (layers): Sequential(\n",
              "    (0): Linear(in_features=784, out_features=512, bias=True)\n",
              "    (1): ReLU()\n",
              "    (2): Linear(in_features=512, out_features=512, bias=True)\n",
              "    (3): BatchNorm1d(512, eps=1e-05, momentum=0.1, affine=True, track_running_stats=True)\n",
              "    (4): ReLU()\n",
              "    (5): Linear(in_features=512, out_features=10, bias=True)\n",
              "  )\n",
              ")"
            ]
          },
          "metadata": {},
          "execution_count": 17
        }
      ]
    },
    {
      "cell_type": "code",
      "source": [
        "decoder.to('cuda')"
      ],
      "metadata": {
        "colab": {
          "base_uri": "https://localhost:8080/"
        },
        "id": "cNWlFAyM_auC",
        "outputId": "6166b16b-0832-4324-f6f2-8f1665ce4778"
      },
      "execution_count": null,
      "outputs": [
        {
          "output_type": "execute_result",
          "data": {
            "text/plain": [
              "Decoder(\n",
              "  (layers): Sequential(\n",
              "    (0): Linear(in_features=10, out_features=512, bias=True)\n",
              "    (1): ReLU()\n",
              "    (2): Linear(in_features=512, out_features=512, bias=True)\n",
              "    (3): ReLU()\n",
              "    (4): Linear(in_features=512, out_features=784, bias=True)\n",
              "    (5): Tanh()\n",
              "  )\n",
              ")"
            ]
          },
          "metadata": {},
          "execution_count": 18
        }
      ]
    },
    {
      "cell_type": "code",
      "source": [
        "disc.to('cuda')"
      ],
      "metadata": {
        "colab": {
          "base_uri": "https://localhost:8080/"
        },
        "id": "SI-4mjzU_9vH",
        "outputId": "e543f9e6-cc3f-4634-da0b-2f073d321693"
      },
      "execution_count": null,
      "outputs": [
        {
          "output_type": "execute_result",
          "data": {
            "text/plain": [
              "Discriminator(\n",
              "  (layers): Sequential(\n",
              "    (0): Linear(in_features=10, out_features=512, bias=True)\n",
              "    (1): ReLU()\n",
              "    (2): Linear(in_features=512, out_features=256, bias=True)\n",
              "    (3): ReLU()\n",
              "    (4): Linear(in_features=256, out_features=1, bias=True)\n",
              "    (5): Sigmoid()\n",
              "  )\n",
              ")"
            ]
          },
          "metadata": {},
          "execution_count": 19
        }
      ]
    },
    {
      "cell_type": "markdown",
      "source": [
        "## Train"
      ],
      "metadata": {
        "id": "hnII0ot8AHlr"
      }
    },
    {
      "cell_type": "code",
      "source": [
        "! mkdir images"
      ],
      "metadata": {
        "id": "KtulHFDJ__yK"
      },
      "execution_count": null,
      "outputs": []
    },
    {
      "cell_type": "code",
      "source": [
        "# training phase\n",
        "from tqdm import tqdm\n",
        "for epoch in tqdm(range(EPOCHS)):\n",
        "    for i, (x, _) in enumerate(dataloader):\n",
        "        \"\"\"\n",
        "        zero : fake\n",
        "        one : real\n",
        "        \"\"\"\n",
        "        x = x.to('cuda')\n",
        "        # Reconstruction Loss + Generator Loss\n",
        "        gen_optim.zero_grad()\n",
        "        latent_z = encoder(x)\n",
        "        reconstructed_img = decoder(latent_z)\n",
        "        y = disc(latent_z)\n",
        "        gen_loss = 0.001 * adversarial_loss(y, torch.ones_like(y)) + 0.999 * reconstruction_loss(reconstructed_img, x)\n",
        "        gen_loss.backward()\n",
        "        gen_optim.step()\n",
        "\n",
        "        # Discriminator loss\n",
        "        disc_optim.zero_grad()\n",
        "        normal_z = torch.randn(*latent_z.shape).to('cuda')\n",
        "        disc_normal_z = disc(normal_z)\n",
        "        disc_latent_z = disc(latent_z.detach())\n",
        "        real_disc_loss = adversarial_loss(disc_normal_z, torch.ones_like(disc_normal_z))\n",
        "        fake_disc_loss = adversarial_loss(disc_latent_z, torch.zeros_like(disc_latent_z))\n",
        "        disc_loss = 0.5*(real_disc_loss + fake_disc_loss)\n",
        "        disc_loss.backward()\n",
        "        disc_optim.step()\n",
        "\n",
        "    if epoch%10 == 0:\n",
        "        print(f\"Epoch {epoch}/{EPOCHS}, Disc_loss: {disc_loss.item()}, Gen_loss: {gen_loss.item()}\")\n",
        "\n",
        "    if epoch % 10 == 0:\n",
        "        z = torch.randn(*latent_z.shape).to('cuda')\n",
        "        fake_img = decoder(z)\n",
        "        save_image(fake_img.data[:25], \"images/%d.png\" % epoch, nrow=5, normalize=True)\n",
        "\n"
      ],
      "metadata": {
        "colab": {
          "base_uri": "https://localhost:8080/"
        },
        "id": "XTghj6rMAMZI",
        "outputId": "ff20612b-525d-474a-ea1d-919d6f6e9701"
      },
      "execution_count": null,
      "outputs": [
        {
          "output_type": "stream",
          "name": "stderr",
          "text": [
            "  0%|          | 1/500 [00:04<40:10,  4.83s/it]"
          ]
        },
        {
          "output_type": "stream",
          "name": "stdout",
          "text": [
            "Epoch 0/500, Disc_loss: 0.06731578707695007, Gen_loss: 0.1108897477388382\n"
          ]
        },
        {
          "output_type": "stream",
          "name": "stderr",
          "text": [
            "  2%|▏         | 11/500 [00:45<33:21,  4.09s/it]"
          ]
        },
        {
          "output_type": "stream",
          "name": "stdout",
          "text": [
            "Epoch 10/500, Disc_loss: 0.31429824233055115, Gen_loss: 0.07188782840967178\n"
          ]
        },
        {
          "output_type": "stream",
          "name": "stderr",
          "text": [
            "  4%|▍         | 21/500 [01:26<33:00,  4.13s/it]"
          ]
        },
        {
          "output_type": "stream",
          "name": "stdout",
          "text": [
            "Epoch 20/500, Disc_loss: 0.2999424338340759, Gen_loss: 0.06916475296020508\n"
          ]
        },
        {
          "output_type": "stream",
          "name": "stderr",
          "text": [
            "  6%|▌         | 31/500 [02:07<31:27,  4.02s/it]"
          ]
        },
        {
          "output_type": "stream",
          "name": "stdout",
          "text": [
            "Epoch 30/500, Disc_loss: 0.33292198181152344, Gen_loss: 0.05682932958006859\n"
          ]
        },
        {
          "output_type": "stream",
          "name": "stderr",
          "text": [
            "  8%|▊         | 41/500 [02:49<32:03,  4.19s/it]"
          ]
        },
        {
          "output_type": "stream",
          "name": "stdout",
          "text": [
            "Epoch 40/500, Disc_loss: 0.3316859006881714, Gen_loss: 0.05411600321531296\n"
          ]
        },
        {
          "output_type": "stream",
          "name": "stderr",
          "text": [
            " 10%|█         | 51/500 [03:30<30:44,  4.11s/it]"
          ]
        },
        {
          "output_type": "stream",
          "name": "stdout",
          "text": [
            "Epoch 50/500, Disc_loss: 0.3613550662994385, Gen_loss: 0.0503041110932827\n"
          ]
        },
        {
          "output_type": "stream",
          "name": "stderr",
          "text": [
            " 12%|█▏        | 61/500 [04:11<30:12,  4.13s/it]"
          ]
        },
        {
          "output_type": "stream",
          "name": "stdout",
          "text": [
            "Epoch 60/500, Disc_loss: 0.3489813506603241, Gen_loss: 0.053966768085956573\n"
          ]
        },
        {
          "output_type": "stream",
          "name": "stderr",
          "text": [
            " 14%|█▍        | 71/500 [04:51<29:02,  4.06s/it]"
          ]
        },
        {
          "output_type": "stream",
          "name": "stdout",
          "text": [
            "Epoch 70/500, Disc_loss: 0.2967478334903717, Gen_loss: 0.05404778942465782\n"
          ]
        },
        {
          "output_type": "stream",
          "name": "stderr",
          "text": [
            " 16%|█▌        | 81/500 [05:33<29:00,  4.15s/it]"
          ]
        },
        {
          "output_type": "stream",
          "name": "stdout",
          "text": [
            "Epoch 80/500, Disc_loss: 0.3449358642101288, Gen_loss: 0.05272860452532768\n"
          ]
        },
        {
          "output_type": "stream",
          "name": "stderr",
          "text": [
            " 18%|█▊        | 91/500 [06:13<27:29,  4.03s/it]"
          ]
        },
        {
          "output_type": "stream",
          "name": "stdout",
          "text": [
            "Epoch 90/500, Disc_loss: 0.3766075074672699, Gen_loss: 0.04831278324127197\n"
          ]
        },
        {
          "output_type": "stream",
          "name": "stderr",
          "text": [
            " 20%|██        | 101/500 [06:55<27:32,  4.14s/it]"
          ]
        },
        {
          "output_type": "stream",
          "name": "stdout",
          "text": [
            "Epoch 100/500, Disc_loss: 0.3304339647293091, Gen_loss: 0.047926437109708786\n"
          ]
        },
        {
          "output_type": "stream",
          "name": "stderr",
          "text": [
            " 22%|██▏       | 111/500 [07:35<26:16,  4.05s/it]"
          ]
        },
        {
          "output_type": "stream",
          "name": "stdout",
          "text": [
            "Epoch 110/500, Disc_loss: 0.38889628648757935, Gen_loss: 0.04921264201402664\n"
          ]
        },
        {
          "output_type": "stream",
          "name": "stderr",
          "text": [
            " 24%|██▍       | 121/500 [08:16<25:38,  4.06s/it]"
          ]
        },
        {
          "output_type": "stream",
          "name": "stdout",
          "text": [
            "Epoch 120/500, Disc_loss: 0.32317984104156494, Gen_loss: 0.05059169605374336\n"
          ]
        },
        {
          "output_type": "stream",
          "name": "stderr",
          "text": [
            " 26%|██▌       | 131/500 [08:57<24:52,  4.05s/it]"
          ]
        },
        {
          "output_type": "stream",
          "name": "stdout",
          "text": [
            "Epoch 130/500, Disc_loss: 0.4199397563934326, Gen_loss: 0.05017365515232086\n"
          ]
        },
        {
          "output_type": "stream",
          "name": "stderr",
          "text": [
            " 28%|██▊       | 141/500 [09:38<24:28,  4.09s/it]"
          ]
        },
        {
          "output_type": "stream",
          "name": "stdout",
          "text": [
            "Epoch 140/500, Disc_loss: 0.30612418055534363, Gen_loss: 0.04518868029117584\n"
          ]
        },
        {
          "output_type": "stream",
          "name": "stderr",
          "text": [
            " 30%|███       | 151/500 [10:19<23:58,  4.12s/it]"
          ]
        },
        {
          "output_type": "stream",
          "name": "stdout",
          "text": [
            "Epoch 150/500, Disc_loss: 0.3241038918495178, Gen_loss: 0.045001983642578125\n"
          ]
        },
        {
          "output_type": "stream",
          "name": "stderr",
          "text": [
            " 32%|███▏      | 161/500 [11:00<22:54,  4.06s/it]"
          ]
        },
        {
          "output_type": "stream",
          "name": "stdout",
          "text": [
            "Epoch 160/500, Disc_loss: 0.29704922437667847, Gen_loss: 0.04224301874637604\n"
          ]
        },
        {
          "output_type": "stream",
          "name": "stderr",
          "text": [
            " 34%|███▍      | 171/500 [11:42<22:47,  4.16s/it]"
          ]
        },
        {
          "output_type": "stream",
          "name": "stdout",
          "text": [
            "Epoch 170/500, Disc_loss: 0.31855326890945435, Gen_loss: 0.0423833504319191\n"
          ]
        },
        {
          "output_type": "stream",
          "name": "stderr",
          "text": [
            " 36%|███▌      | 181/500 [12:23<21:30,  4.05s/it]"
          ]
        },
        {
          "output_type": "stream",
          "name": "stdout",
          "text": [
            "Epoch 180/500, Disc_loss: 0.3121227025985718, Gen_loss: 0.04257827624678612\n"
          ]
        },
        {
          "output_type": "stream",
          "name": "stderr",
          "text": [
            " 38%|███▊      | 191/500 [13:04<21:30,  4.18s/it]"
          ]
        },
        {
          "output_type": "stream",
          "name": "stdout",
          "text": [
            "Epoch 190/500, Disc_loss: 0.2588646709918976, Gen_loss: 0.045960213989019394\n"
          ]
        },
        {
          "output_type": "stream",
          "name": "stderr",
          "text": [
            " 40%|████      | 201/500 [13:45<20:27,  4.11s/it]"
          ]
        },
        {
          "output_type": "stream",
          "name": "stdout",
          "text": [
            "Epoch 200/500, Disc_loss: 0.3546213209629059, Gen_loss: 0.043069932609796524\n"
          ]
        },
        {
          "output_type": "stream",
          "name": "stderr",
          "text": [
            " 42%|████▏     | 211/500 [14:27<19:56,  4.14s/it]"
          ]
        },
        {
          "output_type": "stream",
          "name": "stdout",
          "text": [
            "Epoch 210/500, Disc_loss: 0.345283567905426, Gen_loss: 0.039763789623975754\n"
          ]
        },
        {
          "output_type": "stream",
          "name": "stderr",
          "text": [
            " 44%|████▍     | 221/500 [15:07<19:09,  4.12s/it]"
          ]
        },
        {
          "output_type": "stream",
          "name": "stdout",
          "text": [
            "Epoch 220/500, Disc_loss: 0.3818158507347107, Gen_loss: 0.04570452496409416\n"
          ]
        },
        {
          "output_type": "stream",
          "name": "stderr",
          "text": [
            " 46%|████▌     | 231/500 [15:48<18:09,  4.05s/it]"
          ]
        },
        {
          "output_type": "stream",
          "name": "stdout",
          "text": [
            "Epoch 230/500, Disc_loss: 0.3149968683719635, Gen_loss: 0.03856547549366951\n"
          ]
        },
        {
          "output_type": "stream",
          "name": "stderr",
          "text": [
            " 48%|████▊     | 241/500 [16:30<17:46,  4.12s/it]"
          ]
        },
        {
          "output_type": "stream",
          "name": "stdout",
          "text": [
            "Epoch 240/500, Disc_loss: 0.3695352077484131, Gen_loss: 0.04292016476392746\n"
          ]
        },
        {
          "output_type": "stream",
          "name": "stderr",
          "text": [
            " 50%|█████     | 251/500 [17:10<16:45,  4.04s/it]"
          ]
        },
        {
          "output_type": "stream",
          "name": "stdout",
          "text": [
            "Epoch 250/500, Disc_loss: 0.30134567618370056, Gen_loss: 0.04004771262407303\n"
          ]
        },
        {
          "output_type": "stream",
          "name": "stderr",
          "text": [
            " 52%|█████▏    | 261/500 [17:52<16:22,  4.11s/it]"
          ]
        },
        {
          "output_type": "stream",
          "name": "stdout",
          "text": [
            "Epoch 260/500, Disc_loss: 0.2724229693412781, Gen_loss: 0.03980876877903938\n"
          ]
        },
        {
          "output_type": "stream",
          "name": "stderr",
          "text": [
            " 54%|█████▍    | 271/500 [18:33<15:57,  4.18s/it]"
          ]
        },
        {
          "output_type": "stream",
          "name": "stdout",
          "text": [
            "Epoch 270/500, Disc_loss: 0.3334568440914154, Gen_loss: 0.03704731538891792\n"
          ]
        },
        {
          "output_type": "stream",
          "name": "stderr",
          "text": [
            " 56%|█████▌    | 281/500 [19:14<14:58,  4.10s/it]"
          ]
        },
        {
          "output_type": "stream",
          "name": "stdout",
          "text": [
            "Epoch 280/500, Disc_loss: 0.4166463613510132, Gen_loss: 0.04249177128076553\n"
          ]
        },
        {
          "output_type": "stream",
          "name": "stderr",
          "text": [
            " 58%|█████▊    | 291/500 [19:56<14:44,  4.23s/it]"
          ]
        },
        {
          "output_type": "stream",
          "name": "stdout",
          "text": [
            "Epoch 290/500, Disc_loss: 0.37365901470184326, Gen_loss: 0.039597395807504654\n"
          ]
        },
        {
          "output_type": "stream",
          "name": "stderr",
          "text": [
            " 60%|██████    | 301/500 [20:38<13:42,  4.13s/it]"
          ]
        },
        {
          "output_type": "stream",
          "name": "stdout",
          "text": [
            "Epoch 300/500, Disc_loss: 0.2934683561325073, Gen_loss: 0.04380978271365166\n"
          ]
        },
        {
          "output_type": "stream",
          "name": "stderr",
          "text": [
            " 62%|██████▏   | 311/500 [21:18<12:40,  4.02s/it]"
          ]
        },
        {
          "output_type": "stream",
          "name": "stdout",
          "text": [
            "Epoch 310/500, Disc_loss: 0.36932608485221863, Gen_loss: 0.03992602601647377\n"
          ]
        },
        {
          "output_type": "stream",
          "name": "stderr",
          "text": [
            " 64%|██████▍   | 321/500 [21:59<12:12,  4.09s/it]"
          ]
        },
        {
          "output_type": "stream",
          "name": "stdout",
          "text": [
            "Epoch 320/500, Disc_loss: 0.3547384738922119, Gen_loss: 0.039648380130529404\n"
          ]
        },
        {
          "output_type": "stream",
          "name": "stderr",
          "text": [
            " 66%|██████▌   | 331/500 [22:40<11:23,  4.04s/it]"
          ]
        },
        {
          "output_type": "stream",
          "name": "stdout",
          "text": [
            "Epoch 330/500, Disc_loss: 0.4007969796657562, Gen_loss: 0.04260947182774544\n"
          ]
        },
        {
          "output_type": "stream",
          "name": "stderr",
          "text": [
            " 68%|██████▊   | 341/500 [23:22<11:10,  4.22s/it]"
          ]
        },
        {
          "output_type": "stream",
          "name": "stdout",
          "text": [
            "Epoch 340/500, Disc_loss: 0.4304863214492798, Gen_loss: 0.04220713675022125\n"
          ]
        },
        {
          "output_type": "stream",
          "name": "stderr",
          "text": [
            " 70%|███████   | 351/500 [24:03<10:14,  4.13s/it]"
          ]
        },
        {
          "output_type": "stream",
          "name": "stdout",
          "text": [
            "Epoch 350/500, Disc_loss: 0.3336319923400879, Gen_loss: 0.03850419819355011\n"
          ]
        },
        {
          "output_type": "stream",
          "name": "stderr",
          "text": [
            " 72%|███████▏  | 361/500 [24:45<09:40,  4.17s/it]"
          ]
        },
        {
          "output_type": "stream",
          "name": "stdout",
          "text": [
            "Epoch 360/500, Disc_loss: 0.3438514173030853, Gen_loss: 0.03671097010374069\n"
          ]
        },
        {
          "output_type": "stream",
          "name": "stderr",
          "text": [
            " 74%|███████▍  | 371/500 [25:26<08:42,  4.05s/it]"
          ]
        },
        {
          "output_type": "stream",
          "name": "stdout",
          "text": [
            "Epoch 370/500, Disc_loss: 0.36245498061180115, Gen_loss: 0.04102860391139984\n"
          ]
        },
        {
          "output_type": "stream",
          "name": "stderr",
          "text": [
            " 76%|███████▌  | 381/500 [26:07<08:14,  4.15s/it]"
          ]
        },
        {
          "output_type": "stream",
          "name": "stdout",
          "text": [
            "Epoch 380/500, Disc_loss: 0.322052001953125, Gen_loss: 0.039906058460474014\n"
          ]
        },
        {
          "output_type": "stream",
          "name": "stderr",
          "text": [
            " 78%|███████▊  | 391/500 [26:48<07:33,  4.16s/it]"
          ]
        },
        {
          "output_type": "stream",
          "name": "stdout",
          "text": [
            "Epoch 390/500, Disc_loss: 0.46057701110839844, Gen_loss: 0.036178115755319595\n"
          ]
        },
        {
          "output_type": "stream",
          "name": "stderr",
          "text": [
            " 80%|████████  | 401/500 [27:30<06:53,  4.17s/it]"
          ]
        },
        {
          "output_type": "stream",
          "name": "stdout",
          "text": [
            "Epoch 400/500, Disc_loss: 0.3706310987472534, Gen_loss: 0.04112991318106651\n"
          ]
        },
        {
          "output_type": "stream",
          "name": "stderr",
          "text": [
            " 82%|████████▏ | 411/500 [28:11<06:06,  4.12s/it]"
          ]
        },
        {
          "output_type": "stream",
          "name": "stdout",
          "text": [
            "Epoch 410/500, Disc_loss: 0.3376195430755615, Gen_loss: 0.04270310699939728\n"
          ]
        },
        {
          "output_type": "stream",
          "name": "stderr",
          "text": [
            " 84%|████████▍ | 421/500 [28:53<05:35,  4.24s/it]"
          ]
        },
        {
          "output_type": "stream",
          "name": "stdout",
          "text": [
            "Epoch 420/500, Disc_loss: 0.28384995460510254, Gen_loss: 0.03905336931347847\n"
          ]
        },
        {
          "output_type": "stream",
          "name": "stderr",
          "text": [
            " 86%|████████▌ | 431/500 [29:34<04:49,  4.20s/it]"
          ]
        },
        {
          "output_type": "stream",
          "name": "stdout",
          "text": [
            "Epoch 430/500, Disc_loss: 0.3279553949832916, Gen_loss: 0.040799785405397415\n"
          ]
        },
        {
          "output_type": "stream",
          "name": "stderr",
          "text": [
            " 88%|████████▊ | 441/500 [30:15<04:05,  4.16s/it]"
          ]
        },
        {
          "output_type": "stream",
          "name": "stdout",
          "text": [
            "Epoch 440/500, Disc_loss: 0.28950971364974976, Gen_loss: 0.0400908999145031\n"
          ]
        },
        {
          "output_type": "stream",
          "name": "stderr",
          "text": [
            " 90%|█████████ | 451/500 [30:57<03:24,  4.18s/it]"
          ]
        },
        {
          "output_type": "stream",
          "name": "stdout",
          "text": [
            "Epoch 450/500, Disc_loss: 0.28669607639312744, Gen_loss: 0.03738803416490555\n"
          ]
        },
        {
          "output_type": "stream",
          "name": "stderr",
          "text": [
            " 92%|█████████▏| 461/500 [31:39<02:43,  4.20s/it]"
          ]
        },
        {
          "output_type": "stream",
          "name": "stdout",
          "text": [
            "Epoch 460/500, Disc_loss: 0.28923410177230835, Gen_loss: 0.04038568586111069\n"
          ]
        },
        {
          "output_type": "stream",
          "name": "stderr",
          "text": [
            " 94%|█████████▍| 471/500 [32:20<02:00,  4.15s/it]"
          ]
        },
        {
          "output_type": "stream",
          "name": "stdout",
          "text": [
            "Epoch 470/500, Disc_loss: 0.3191351890563965, Gen_loss: 0.04002116620540619\n"
          ]
        },
        {
          "output_type": "stream",
          "name": "stderr",
          "text": [
            " 96%|█████████▌| 481/500 [33:01<01:19,  4.21s/it]"
          ]
        },
        {
          "output_type": "stream",
          "name": "stdout",
          "text": [
            "Epoch 480/500, Disc_loss: 0.25586384534835815, Gen_loss: 0.03469770774245262\n"
          ]
        },
        {
          "output_type": "stream",
          "name": "stderr",
          "text": [
            " 98%|█████████▊| 491/500 [33:43<00:37,  4.16s/it]"
          ]
        },
        {
          "output_type": "stream",
          "name": "stdout",
          "text": [
            "Epoch 490/500, Disc_loss: 0.32225632667541504, Gen_loss: 0.035250283777713776\n"
          ]
        },
        {
          "output_type": "stream",
          "name": "stderr",
          "text": [
            "100%|██████████| 500/500 [34:20<00:00,  4.12s/it]\n"
          ]
        }
      ]
    },
    {
      "cell_type": "code",
      "source": [
        "! tar -cvf images.tar ./images"
      ],
      "metadata": {
        "id": "jLpLLVFkEC_c",
        "colab": {
          "base_uri": "https://localhost:8080/"
        },
        "outputId": "b9fccd74-8cd1-4c54-879e-c5d86f961531"
      },
      "execution_count": null,
      "outputs": [
        {
          "output_type": "stream",
          "name": "stdout",
          "text": [
            "./images/\n",
            "./images/10.png\n",
            "./images/60.png\n",
            "./images/50.png\n",
            "./images/390.png\n",
            "./images/430.png\n",
            "./images/440.png\n",
            "./images/100.png\n",
            "./images/240.png\n",
            "./images/230.png\n",
            "./images/90.png\n",
            "./images/490.png\n",
            "./images/380.png\n",
            "./images/270.png\n",
            "./images/250.png\n",
            "./images/80.png\n",
            "./images/220.png\n",
            "./images/330.png\n",
            "./images/350.png\n",
            "./images/30.png\n",
            "./images/320.png\n",
            "./images/420.png\n",
            "./images/280.png\n",
            "./images/160.png\n",
            "./images/300.png\n",
            "./images/370.png\n",
            "./images/190.png\n",
            "./images/480.png\n",
            "./images/70.png\n",
            "./images/20.png\n",
            "./images/150.png\n",
            "./images/130.png\n",
            "./images/0.png\n",
            "./images/140.png\n",
            "./images/210.png\n",
            "./images/180.png\n",
            "./images/410.png\n",
            "./images/360.png\n",
            "./images/470.png\n",
            "./images/170.png\n",
            "./images/340.png\n",
            "./images/290.png\n",
            "./images/120.png\n",
            "./images/450.png\n",
            "./images/310.png\n",
            "./images/110.png\n",
            "./images/400.png\n",
            "./images/460.png\n",
            "./images/40.png\n",
            "./images/200.png\n",
            "./images/260.png\n"
          ]
        }
      ]
    },
    {
      "cell_type": "markdown",
      "source": [
        "## t-SNE로 시각화"
      ],
      "metadata": {
        "id": "BlhKc5Oae7Ku"
      }
    },
    {
      "cell_type": "code",
      "source": [
        "import numpy as np\n",
        "import matplotlib.pyplot as plt\n",
        "from sklearn.manifold import TSNE\n",
        "from sklearn.preprocessing import StandardScaler\n",
        "from tqdm import tqdm\n",
        "\n",
        "sampled_latent_z = []\n",
        "sampled_labels = []\n",
        "sample_size = 100\n",
        "\n",
        "for x, y in tqdm(dataloader):\n",
        "\n",
        "    x = x.to('cuda')\n",
        "\n",
        "    latent_z = encoder(x)\n",
        "\n",
        "    latent_z = latent_z.detach().cpu().numpy()\n",
        "    y = y.detach().cpu().numpy()\n",
        "\n",
        "    if len(sampled_latent_z) < sample_size:\n",
        "        sampled_latent_z.append(latent_z)\n",
        "        sampled_labels.append(y)\n",
        "    else:\n",
        "        break\n",
        "\n",
        "all_latent_z = np.concatenate(sampled_latent_z, axis=0)\n",
        "all_labels = np.concatenate(sampled_labels, axis=0)\n",
        "\n",
        "tsne = TSNE(n_components=2, perplexity=30, random_state=42)\n",
        "embedded_z = tsne.fit_transform(all_latent_z)"
      ],
      "metadata": {
        "colab": {
          "base_uri": "https://localhost:8080/"
        },
        "id": "kA_EcAAceo-d",
        "outputId": "39a64619-8aaf-4a8a-acb4-1896d0774b96"
      },
      "execution_count": null,
      "outputs": [
        {
          "output_type": "stream",
          "name": "stderr",
          "text": [
            " 21%|██▏       | 100/469 [00:01<00:03, 99.40it/s]\n"
          ]
        }
      ]
    },
    {
      "cell_type": "code",
      "source": [
        "plt.figure(figsize=(10, 8))\n",
        "colors = plt.cm.Spectral(np.linspace(0, 1, 10))\n",
        "\n",
        "for i in range(10):\n",
        "    mask = (i == all_labels)\n",
        "    plt.scatter(embedded_z[mask, 0], embedded_z[mask, 1], c=[colors[i]], label=str(i), s=1)\n",
        "\n",
        "plt.legend(title=\"Classes\", bbox_to_anchor=(1., 1), loc='upper left')\n",
        "\n",
        "plt.title(\"Latent z t-SNE Visualization\")\n",
        "plt.show()"
      ],
      "metadata": {
        "colab": {
          "base_uri": "https://localhost:8080/",
          "height": 699
        },
        "id": "7fjQuZSlHKMv",
        "outputId": "2dea76cf-c066-4136-a94a-b4431087df2b"
      },
      "execution_count": null,
      "outputs": [
        {
          "output_type": "display_data",
          "data": {
            "text/plain": [
              "<Figure size 1000x800 with 1 Axes>"
            ],
            "image/png": "[encoded data removed]"
          },
          "metadata": {}
        }
      ]
    },
    {
      "cell_type": "markdown",
      "source": [
        "## 인코더 통과한 latent_z의 분포가 표준정규분포가 되었는 지 확인"
      ],
      "metadata": {
        "id": "mM_0c0127d6Z"
      }
    },
    {
      "cell_type": "code",
      "source": [
        "print('Latent_z의 mean : ' + str(all_latent_z.mean()))\n",
        "print('Latent_z의 std : ' + str(all_latent_z.std()))"
      ],
      "metadata": {
        "colab": {
          "base_uri": "https://localhost:8080/"
        },
        "id": "KR6rOFxj7jrs",
        "outputId": "ef5de069-b0d0-4f64-f9e4-1242062f2ecd"
      },
      "execution_count": null,
      "outputs": [
        {
          "output_type": "stream",
          "name": "stdout",
          "text": [
            "Latent_z의 mean : -0.013962309\n",
            "Latent_z의 std : 1.0024052\n"
          ]
        }
      ]
    }
  ]
}